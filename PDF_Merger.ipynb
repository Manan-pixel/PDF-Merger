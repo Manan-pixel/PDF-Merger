{
  "nbformat": 4,
  "nbformat_minor": 0,
  "metadata": {
    "colab": {
      "provenance": [],
      "authorship_tag": "ABX9TyPzmXjoK54itcLRe2l3+6d5",
      "include_colab_link": true
    },
    "kernelspec": {
      "name": "python3",
      "display_name": "Python 3"
    },
    "language_info": {
      "name": "python"
    }
  },
  "cells": [
    {
      "cell_type": "markdown",
      "metadata": {
        "id": "view-in-github",
        "colab_type": "text"
      },
      "source": [
        "<a href=\"https://colab.research.google.com/github/Manan-pixel/PDF-Merger/blob/main/PDF_Merger.ipynb\" target=\"_parent\"><img src=\"https://colab.research.google.com/assets/colab-badge.svg\" alt=\"Open In Colab\"/></a>"
      ]
    },
    {
      "cell_type": "code",
      "source": [
        "!pip install PyPDF2\n",
        "import PyPDF2"
      ],
      "metadata": {
        "colab": {
          "base_uri": "https://localhost:8080/"
        },
        "id": "kw-NBpGKp823",
        "outputId": "38bbbef1-be3b-4876-85ce-8d916dbfd8ce"
      },
      "execution_count": 12,
      "outputs": [
        {
          "output_type": "stream",
          "name": "stdout",
          "text": [
            "Requirement already satisfied: PyPDF2 in /usr/local/lib/python3.10/dist-packages (3.0.1)\n"
          ]
        }
      ]
    },
    {
      "cell_type": "code",
      "execution_count": 13,
      "metadata": {
        "id": "4Q60_ZeUpxc_"
      },
      "outputs": [],
      "source": [
        "from PyPDF2 import PdfWriter, PdfReader\n",
        "\n",
        "# List of files to be merged\n",
        "files_list = [\n",
        "    \"/content/part1.pdf\",\n",
        "    \"/content/part2.pdf\"\n",
        "]\n",
        "\n",
        "# Output file path\n",
        "output_file = \"/content/merged_output.pdf\"\n",
        "\n",
        "# Initialize PdfWriter\n",
        "pdf_writer = PdfWriter()\n",
        "\n",
        "# Iterate over each PDF file\n",
        "for file_path in files_list:\n",
        "    pdf_reader = PdfReader(file_path)\n",
        "    for page in range(len(pdf_reader.pages)):\n",
        "        pdf_writer.add_page(pdf_reader.pages[page])\n",
        "\n",
        "# Write the merged PDF to the output file\n",
        "with open(output_file, \"wb\") as output_pdf:\n",
        "    pdf_writer.write(output_pdf)\n"
      ]
    }
  ]
}